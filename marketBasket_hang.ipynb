{
 "cells": [
  {
   "cell_type": "code",
   "outputs": [
    {
     "name": "stderr",
     "output_type": "stream",
     "text": [
      "C:\\Users\\VNC\\AppData\\Local\\Temp\\ipykernel_3572\\3027128579.py:11: FutureWarning: A value is trying to be set on a copy of a DataFrame or Series through chained assignment using an inplace method.\n",
      "The behavior will change in pandas 3.0. This inplace method will never work because the intermediate object on which we are setting values always behaves as a copy.\n",
      "\n",
      "For example, when doing 'df[col].method(value, inplace=True)', try using 'df.method({col: value}, inplace=True)' or df[col] = df[col].method(value) instead, to perform the operation inplace on the original object.\n",
      "\n",
      "\n",
      "  df['Khuyến mãi / Trả thưởng'].fillna(0, inplace=True)\n"
     ]
    },
    {
     "data": {
      "text/plain": "        Mã đơn hàng  Mã sản phẩm Khuyến mãi / Trả thưởng\n0      2401001832.0    500000760                       0\n1      2401001832.0  500000071-G              Khuyến mại\n2      2401001831.0  500000071-G              Khuyến mại\n3      2401001831.0    500000760                       0\n4      2401001830.0    500000590                       0\n...             ...          ...                     ...\n12902           nan          NaN                       0\n12903           nan          NaN                       0\n12904           nan          NaN                       0\n12905           nan          NaN                       0\n12906           nan          NaN                       0\n\n[12907 rows x 3 columns]",
      "text/html": "<div>\n<style scoped>\n    .dataframe tbody tr th:only-of-type {\n        vertical-align: middle;\n    }\n\n    .dataframe tbody tr th {\n        vertical-align: top;\n    }\n\n    .dataframe thead th {\n        text-align: right;\n    }\n</style>\n<table border=\"1\" class=\"dataframe\">\n  <thead>\n    <tr style=\"text-align: right;\">\n      <th></th>\n      <th>Mã đơn hàng</th>\n      <th>Mã sản phẩm</th>\n      <th>Khuyến mãi / Trả thưởng</th>\n    </tr>\n  </thead>\n  <tbody>\n    <tr>\n      <th>0</th>\n      <td>2401001832.0</td>\n      <td>500000760</td>\n      <td>0</td>\n    </tr>\n    <tr>\n      <th>1</th>\n      <td>2401001832.0</td>\n      <td>500000071-G</td>\n      <td>Khuyến mại</td>\n    </tr>\n    <tr>\n      <th>2</th>\n      <td>2401001831.0</td>\n      <td>500000071-G</td>\n      <td>Khuyến mại</td>\n    </tr>\n    <tr>\n      <th>3</th>\n      <td>2401001831.0</td>\n      <td>500000760</td>\n      <td>0</td>\n    </tr>\n    <tr>\n      <th>4</th>\n      <td>2401001830.0</td>\n      <td>500000590</td>\n      <td>0</td>\n    </tr>\n    <tr>\n      <th>...</th>\n      <td>...</td>\n      <td>...</td>\n      <td>...</td>\n    </tr>\n    <tr>\n      <th>12902</th>\n      <td>nan</td>\n      <td>NaN</td>\n      <td>0</td>\n    </tr>\n    <tr>\n      <th>12903</th>\n      <td>nan</td>\n      <td>NaN</td>\n      <td>0</td>\n    </tr>\n    <tr>\n      <th>12904</th>\n      <td>nan</td>\n      <td>NaN</td>\n      <td>0</td>\n    </tr>\n    <tr>\n      <th>12905</th>\n      <td>nan</td>\n      <td>NaN</td>\n      <td>0</td>\n    </tr>\n    <tr>\n      <th>12906</th>\n      <td>nan</td>\n      <td>NaN</td>\n      <td>0</td>\n    </tr>\n  </tbody>\n</table>\n<p>12907 rows × 3 columns</p>\n</div>"
     },
     "execution_count": 36,
     "metadata": {},
     "output_type": "execute_result"
    }
   ],
   "source": [
    "import pandas as pd\n",
    "\n",
    "# Đường dẫn đến file Excel\n",
    "excel_file = 'MỸ-KHỞI-FORM-TONG-KET-CHAO-OHAYO-T1.xlsb'\n",
    "\n",
    "# Đọc sheet cụ thể (trong trường hợp này là sheet có index là 0)\n",
    "sheet_index = 1\n",
    "# Đọc sheet từ file Excel\n",
    "df = pd.read_excel(excel_file, sheet_name=sheet_index, header=2)\n",
    "df['Mã đơn hàng'] = df['Mã đơn hàng'].astype(str)\n",
    "df['Khuyến mãi / Trả thưởng'].fillna(0, inplace=True)\n",
    "v = ['Mã đơn hàng', 'Mã sản phẩm', 'Khuyến mãi / Trả thưởng']\n",
    "df = df[v]\n",
    "df\n",
    "# In ra dữ liệu đọc được"
   ],
   "metadata": {
    "collapsed": true,
    "ExecuteTime": {
     "end_time": "2024-04-04T03:10:02.886481Z",
     "start_time": "2024-04-04T03:09:58.975047Z"
    }
   },
   "id": "initial_id",
   "execution_count": 36
  },
  {
   "cell_type": "code",
   "outputs": [
    {
     "name": "stderr",
     "output_type": "stream",
     "text": [
      "C:\\Users\\VNC\\AppData\\Local\\Temp\\ipykernel_3572\\893225859.py:3: SettingWithCopyWarning: \n",
      "A value is trying to be set on a copy of a slice from a DataFrame\n",
      "\n",
      "See the caveats in the documentation: https://pandas.pydata.org/pandas-docs/stable/user_guide/indexing.html#returning-a-view-versus-a-copy\n",
      "  df_filtered.dropna(inplace=True)\n"
     ]
    },
    {
     "data": {
      "text/plain": "       Mã đơn hàng Mã sản phẩm\n0     2401001832.0   500000760\n3     2401001831.0   500000760\n4     2401001830.0   500000590\n6     2401001830.0   500000760\n7     2401001829.0   500000760\n...            ...         ...\n5762  2401000004.0   500000854\n5764  2401000003.0   500000073\n5765  2401000003.0   500000854\n5766  2401000002.0   500000854\n5770  2401000001.0   500000854\n\n[4294 rows x 2 columns]",
      "text/html": "<div>\n<style scoped>\n    .dataframe tbody tr th:only-of-type {\n        vertical-align: middle;\n    }\n\n    .dataframe tbody tr th {\n        vertical-align: top;\n    }\n\n    .dataframe thead th {\n        text-align: right;\n    }\n</style>\n<table border=\"1\" class=\"dataframe\">\n  <thead>\n    <tr style=\"text-align: right;\">\n      <th></th>\n      <th>Mã đơn hàng</th>\n      <th>Mã sản phẩm</th>\n    </tr>\n  </thead>\n  <tbody>\n    <tr>\n      <th>0</th>\n      <td>2401001832.0</td>\n      <td>500000760</td>\n    </tr>\n    <tr>\n      <th>3</th>\n      <td>2401001831.0</td>\n      <td>500000760</td>\n    </tr>\n    <tr>\n      <th>4</th>\n      <td>2401001830.0</td>\n      <td>500000590</td>\n    </tr>\n    <tr>\n      <th>6</th>\n      <td>2401001830.0</td>\n      <td>500000760</td>\n    </tr>\n    <tr>\n      <th>7</th>\n      <td>2401001829.0</td>\n      <td>500000760</td>\n    </tr>\n    <tr>\n      <th>...</th>\n      <td>...</td>\n      <td>...</td>\n    </tr>\n    <tr>\n      <th>5762</th>\n      <td>2401000004.0</td>\n      <td>500000854</td>\n    </tr>\n    <tr>\n      <th>5764</th>\n      <td>2401000003.0</td>\n      <td>500000073</td>\n    </tr>\n    <tr>\n      <th>5765</th>\n      <td>2401000003.0</td>\n      <td>500000854</td>\n    </tr>\n    <tr>\n      <th>5766</th>\n      <td>2401000002.0</td>\n      <td>500000854</td>\n    </tr>\n    <tr>\n      <th>5770</th>\n      <td>2401000001.0</td>\n      <td>500000854</td>\n    </tr>\n  </tbody>\n</table>\n<p>4294 rows × 2 columns</p>\n</div>"
     },
     "execution_count": 47,
     "metadata": {},
     "output_type": "execute_result"
    }
   ],
   "source": [
    "# Lọc ra các hàng có 'Khuyến mãi / Trả thưởng' = 0\n",
    "df_filtered = df[df['Khuyến mãi / Trả thưởng'] == 0]\n",
    "df_filtered.dropna(inplace=True)\n",
    "# In ra dữ liệu đã lọc\n",
    "data = df_filtered.iloc[:, [0, 1]]\n",
    "data"
   ],
   "metadata": {
    "collapsed": false,
    "ExecuteTime": {
     "end_time": "2024-04-04T03:23:22.194862Z",
     "start_time": "2024-04-04T03:23:22.165292Z"
    }
   },
   "id": "e84aa3a84b601c17",
   "execution_count": 47
  },
  {
   "cell_type": "code",
   "outputs": [
    {
     "data": {
      "text/plain": "Mã đơn hàng\n2401000001.0               [500000854]\n2401000002.0               [500000854]\n2401000003.0    [500000073, 500000854]\n2401000004.0               [500000854]\n2401000005.0               [500000854]\n                         ...          \n2401001828.0    [500000760, 500000590]\n2401001829.0               [500000760]\n2401001830.0    [500000590, 500000760]\n2401001831.0               [500000760]\n2401001832.0               [500000760]\nName: Mã sản phẩm, Length: 1819, dtype: object"
     },
     "execution_count": 48,
     "metadata": {},
     "output_type": "execute_result"
    }
   ],
   "source": [
    "# Nhóm các mã sản phẩm theo mã đơn hàng và tổng hợp các mã sản phẩm\n",
    "grouped = data.groupby('Mã đơn hàng')['Mã sản phẩm'].agg(list)\n",
    "\n",
    "# In ra kết quả\n",
    "grouped"
   ],
   "metadata": {
    "collapsed": false,
    "ExecuteTime": {
     "end_time": "2024-04-04T03:23:31.066746Z",
     "start_time": "2024-04-04T03:23:31.016500Z"
    }
   },
   "id": "b42c14647f1b667c",
   "execution_count": 48
  }
 ],
 "metadata": {
  "kernelspec": {
   "display_name": "Python 3",
   "language": "python",
   "name": "python3"
  },
  "language_info": {
   "codemirror_mode": {
    "name": "ipython",
    "version": 2
   },
   "file_extension": ".py",
   "mimetype": "text/x-python",
   "name": "python",
   "nbconvert_exporter": "python",
   "pygments_lexer": "ipython2",
   "version": "2.7.6"
  }
 },
 "nbformat": 4,
 "nbformat_minor": 5
}
